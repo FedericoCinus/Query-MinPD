{
 "cells": [
  {
   "cell_type": "code",
   "execution_count": 1,
   "id": "a26552dd",
   "metadata": {},
   "outputs": [],
   "source": [
    "import networkx as nx\n",
    "import sys\n",
    "sys.path += ['../src/', '../config/']\n",
    "from data_loaders import load_directed_graph, load_undirected_graph\n",
    "from utils import cast_to_doubly_stochastic\n",
    "from generative_opinions_models import generate_opinions\n",
    "from data_loaders import load_real_dataset\n",
    "from generative_graph_models import define_graph_instance\n",
    "from preprocessing import preprocess, define_initial_and_final_opinions, standardize_vec\n",
    "\n",
    "import matplotlib.pyplot as plt\n",
    "import seaborn as sns\n",
    "import pandas as pd\n",
    "import numpy as np"
   ]
  },
  {
   "cell_type": "code",
   "execution_count": 5,
   "id": "c67c1856",
   "metadata": {},
   "outputs": [
    {
     "name": "stdout",
     "output_type": "stream",
     "text": [
      "min: -0.294, max: 0.339, mean=-0.001, std=0.195\n"
     ]
    },
    {
     "name": "stderr",
     "output_type": "stream",
     "text": [
      "/data/big/fcinus/QED/notebooks/../src/generative_graph_models.py:168: FutureWarning: adjacency_matrix will return a scipy.sparse array instead of a matrix in Networkx 3.0.\n",
      "  A = normalize(nx.adjacency_matrix(G), axis=1, norm='l1')\n"
     ]
    }
   ],
   "source": [
    "network_name = 'directed/out.moreno_highschool_highschool'\n",
    "A_eq, G, _ = define_graph_instance(network_name, kwargs={}, directed=not \"undirected\" in network_name)\n",
    "x = generate_opinions(o_name='gaussian', G=G, pol=3., seed=0)\n",
    "print(f\"min: {np.min(x):.3f}, max: {np.max(x):.3f}, mean={np.mean(x):.3f}, std={np.std(x):.3f}\")\n",
    "# x, _, I = preprocess(x, G)\n",
    "# print(f\"min: {np.min(x):.3f}, max: {np.max(x):.3f}, mean={np.mean(x):.3f}, std={np.std(x):.3f}\")\n",
    "# s, _z_eq = define_initial_and_final_opinions(x=x, M_eq = 2*I - A_eq)\n",
    "# print(f\"min: {np.min(s):.3f}, max: {np.max(s):.3f}, mean={np.mean(s):.3f}, std={np.std(s):.3f}\")\n",
    "# s = (I + np.diag(A_eq.sum(axis=1)) - A_eq) @ x\n",
    "# print(f\"min: {np.min(s):.3f}, max: {np.max(s):.3f}, mean={np.mean(s):.3f}, std={np.std(s):.3f}\")\n"
   ]
  },
  {
   "cell_type": "code",
   "execution_count": 4,
   "id": "a451c5a7",
   "metadata": {},
   "outputs": [
    {
     "data": {
      "text/plain": [
       "array([[ 0.29700436],\n",
       "       [ 0.18334643],\n",
       "       [ 0.2315615 ],\n",
       "       [ 0.3367411 ],\n",
       "       [ 0.30562983],\n",
       "       [-0.13697092],\n",
       "       [-0.04747578],\n",
       "       [ 0.06856018],\n",
       "       [ 0.22917403],\n",
       "       [ 0.1373869 ],\n",
       "       [ 0.14139843],\n",
       "       [-0.04980168],\n",
       "       [-0.18227723],\n",
       "       [ 0.18421654],\n",
       "       [ 0.16200363],\n",
       "       [-0.1751919 ],\n",
       "       [ 0.27118946],\n",
       "       [ 0.21341981],\n",
       "       [ 0.16013958],\n",
       "       [ 0.1869886 ],\n",
       "       [ 0.17780619],\n",
       "       [ 0.27450659],\n",
       "       [ 0.13290348],\n",
       "       [ 0.17608898],\n",
       "       [ 0.07882536],\n",
       "       [-0.06274915],\n",
       "       [ 0.20446822],\n",
       "       [-0.23737941],\n",
       "       [ 0.22203635],\n",
       "       [-0.26833483],\n",
       "       [-0.29218918],\n",
       "       [ 0.01256462],\n",
       "       [-0.19247102],\n",
       "       [-0.18650619],\n",
       "       [-0.25439961],\n",
       "       [-0.08520914],\n",
       "       [-0.28449149],\n",
       "       [ 0.08815291],\n",
       "       [ 0.33914622],\n",
       "       [-0.16772836],\n",
       "       [ 0.02880286],\n",
       "       [-0.22462221],\n",
       "       [-0.11775813],\n",
       "       [-0.19256709],\n",
       "       [-0.24838602],\n",
       "       [-0.15234852],\n",
       "       [ 0.15381321],\n",
       "       [ 0.13440135],\n",
       "       [ 0.2777316 ],\n",
       "       [-0.11430568],\n",
       "       [ 0.27244656],\n",
       "       [ 0.16291229],\n",
       "       [-0.1444569 ],\n",
       "       [ 0.18151354],\n",
       "       [ 0.07601785],\n",
       "       [-0.12479401],\n",
       "       [-0.01506637],\n",
       "       [ 0.12100732],\n",
       "       [-0.20286017],\n",
       "       [-0.18022843],\n",
       "       [-0.20603837],\n",
       "       [-0.17996276],\n",
       "       [-0.21776219],\n",
       "       [-0.29385688],\n",
       "       [-0.13521449],\n",
       "       [-0.18348174],\n",
       "       [-0.28584986],\n",
       "       [-0.11143481],\n",
       "       [-0.2256082 ],\n",
       "       [-0.14567122]])"
      ]
     },
     "execution_count": 4,
     "metadata": {},
     "output_type": "execute_result"
    }
   ],
   "source": [
    "x"
   ]
  },
  {
   "cell_type": "markdown",
   "id": "7ca0a67d",
   "metadata": {},
   "source": [
    "# Table Datasets"
   ]
  },
  {
   "cell_type": "code",
   "execution_count": 18,
   "id": "f779256e",
   "metadata": {},
   "outputs": [
    {
     "name": "stdout",
     "output_type": "stream",
     "text": [
      "brexit\n",
      "Loading brexit follow network\n",
      "   ! Removing out-disconnected nodes.. \n",
      "  iter=0, remaining 7589\n",
      "   ! Removing out-disconnected nodes.. \n",
      "  iter=1, remaining 7282\n",
      "Graph is directed True,  |V|=7_281,  |E|=530_607\n",
      "   ! Removing out-disconnected nodes.. \n",
      "  iter=0, remaining 7589\n",
      "   ! Removing out-disconnected nodes.. \n",
      "  iter=1, remaining 7282\n",
      "Standardize opinion vec\n",
      "Computing the pair of inner opinions and equilibirum opinions ..\n"
     ]
    },
    {
     "data": {
      "image/png": "[encoded data removed]",
      "text/plain": [
       "<Figure size 300x50 with 1 Axes>"
      ]
     },
     "metadata": {},
     "output_type": "display_data"
    },
    {
     "name": "stdout",
     "output_type": "stream",
     "text": [
      "referendum\n",
      "Loading referendum follow network\n",
      "   ! Removing out-disconnected nodes.. \n",
      "  iter=0, remaining 2894\n",
      "   ! Removing out-disconnected nodes.. \n",
      "  iter=1, remaining 2485\n",
      "Graph is directed True,  |V|=2_479,  |E|=154_831\n",
      "   ! Removing out-disconnected nodes.. \n",
      "  iter=0, remaining 2894\n",
      "   ! Removing out-disconnected nodes.. \n",
      "  iter=1, remaining 2485\n",
      "Standardize opinion vec\n",
      "Computing the pair of inner opinions and equilibirum opinions ..\n"
     ]
    },
    {
     "data": {
      "image/png": "[encoded data removed]",
      "text/plain": [
       "<Figure size 300x50 with 1 Axes>"
      ]
     },
     "metadata": {},
     "output_type": "display_data"
    },
    {
     "name": "stdout",
     "output_type": "stream",
     "text": [
      "vaxNoVax\n",
      "Loading vaxNoVax follow network\n",
      "   ! Removing out-disconnected nodes.. \n",
      "  iter=0, remaining 15736\n",
      "   ! Removing out-disconnected nodes.. \n",
      "  iter=1, remaining 11760\n",
      "   ! Removing out-disconnected nodes.. \n",
      "  iter=2, remaining 11636\n",
      "Graph is directed True,  |V|=11_632,  |E|=1_599_220\n",
      "   ! Removing out-disconnected nodes.. \n",
      "  iter=0, remaining 15736\n",
      "   ! Removing out-disconnected nodes.. \n",
      "  iter=1, remaining 11760\n",
      "   ! Removing out-disconnected nodes.. \n",
      "  iter=2, remaining 11636\n",
      "Standardize opinion vec\n",
      "Computing the pair of inner opinions and equilibirum opinions ..\n"
     ]
    },
    {
     "data": {
      "image/png": "[encoded data removed]",
      "text/plain": [
       "<Figure size 300x50 with 1 Axes>"
      ]
     },
     "metadata": {},
     "output_type": "display_data"
    },
    {
     "name": "stdout",
     "output_type": "stream",
     "text": [
      "directed/out.moreno_highschool_highschool\n",
      "Standardize opinion vec\n",
      "Computing the pair of inner opinions and equilibirum opinions ..\n"
     ]
    },
    {
     "data": {
      "image/png": "[encoded data removed]",
      "text/plain": [
       "<Figure size 300x50 with 1 Axes>"
      ]
     },
     "metadata": {},
     "output_type": "display_data"
    },
    {
     "name": "stdout",
     "output_type": "stream",
     "text": [
      "directed/out.dnc-temporalGraph\n",
      "   ! Removing out-disconnected nodes.. \n",
      "  iter=0, remaining 1833\n",
      "   ! Removing out-disconnected nodes.. \n",
      "  iter=1, remaining 1050\n",
      "   ! Removing out-disconnected nodes.. \n",
      "  iter=2, remaining 950\n",
      "Standardize opinion vec\n",
      "Computing the pair of inner opinions and equilibirum opinions ..\n"
     ]
    },
    {
     "data": {
      "image/png": "[encoded data removed]",
      "text/plain": [
       "<Figure size 300x50 with 1 Axes>"
      ]
     },
     "metadata": {},
     "output_type": "display_data"
    },
    {
     "name": "stdout",
     "output_type": "stream",
     "text": [
      "directed/out.librec-ciaodvd-trust\n",
      "   ! Removing out-disconnected nodes.. \n",
      "  iter=0, remaining 4562\n",
      "   ! Removing out-disconnected nodes.. \n",
      "  iter=1, remaining 1398\n",
      "Standardize opinion vec\n",
      "Computing the pair of inner opinions and equilibirum opinions ..\n"
     ]
    },
    {
     "data": {
      "image/png": "[encoded data removed]",
      "text/plain": [
       "<Figure size 300x50 with 1 Axes>"
      ]
     },
     "metadata": {},
     "output_type": "display_data"
    },
    {
     "name": "stdout",
     "output_type": "stream",
     "text": [
      "directed/out.librec-filmtrust-trust\n",
      "   ! Removing out-disconnected nodes.. \n",
      "  iter=0, remaining 610\n",
      "   ! Removing out-disconnected nodes.. \n",
      "  iter=1, remaining 442\n",
      "   ! Removing out-disconnected nodes.. \n",
      "  iter=2, remaining 426\n",
      "Standardize opinion vec\n",
      "Computing the pair of inner opinions and equilibirum opinions ..\n"
     ]
    },
    {
     "data": {
      "image/png": "[encoded data removed]",
      "text/plain": [
       "<Figure size 300x50 with 1 Axes>"
      ]
     },
     "metadata": {},
     "output_type": "display_data"
    },
    {
     "name": "stdout",
     "output_type": "stream",
     "text": [
      "directed/out.moreno_health_health\n",
      "   ! Removing out-disconnected nodes.. \n",
      "  iter=0, remaining 2539\n",
      "   ! Removing out-disconnected nodes.. \n",
      "  iter=1, remaining 2313\n",
      "   ! Removing out-disconnected nodes.. \n",
      "  iter=2, remaining 2299\n",
      "Standardize opinion vec\n",
      "Computing the pair of inner opinions and equilibirum opinions ..\n"
     ]
    },
    {
     "data": {
      "image/png": "[encoded data removed]",
      "text/plain": [
       "<Figure size 300x50 with 1 Axes>"
      ]
     },
     "metadata": {},
     "output_type": "display_data"
    },
    {
     "name": "stdout",
     "output_type": "stream",
     "text": [
      "directed/out.moreno_innovation_innovation\n",
      "   ! Removing out-disconnected nodes.. \n",
      "  iter=0, remaining 117\n",
      "Standardize opinion vec\n",
      "Computing the pair of inner opinions and equilibirum opinions ..\n"
     ]
    },
    {
     "data": {
      "image/png": "[encoded data removed]",
      "text/plain": [
       "<Figure size 300x50 with 1 Axes>"
      ]
     },
     "metadata": {},
     "output_type": "display_data"
    },
    {
     "name": "stdout",
     "output_type": "stream",
     "text": [
      "directed/out.moreno_oz_oz\n",
      "   ! Removing out-disconnected nodes.. \n",
      "  iter=0, remaining 217\n",
      "Standardize opinion vec\n",
      "Computing the pair of inner opinions and equilibirum opinions ..\n"
     ]
    },
    {
     "data": {
      "image/png": "[encoded data removed]",
      "text/plain": [
       "<Figure size 300x50 with 1 Axes>"
      ]
     },
     "metadata": {},
     "output_type": "display_data"
    },
    {
     "name": "stdout",
     "output_type": "stream",
     "text": [
      "directed/out.wiki_talk_ht\n",
      "   ! Removing out-disconnected nodes.. \n",
      "  iter=0, remaining 404\n",
      "   ! Removing out-disconnected nodes.. \n",
      "  iter=1, remaining 95\n",
      "   ! Removing out-disconnected nodes.. \n",
      "  iter=2, remaining 83\n",
      "Standardize opinion vec\n",
      "Computing the pair of inner opinions and equilibirum opinions ..\n"
     ]
    },
    {
     "data": {
      "image/png": "[encoded data removed]",
      "text/plain": [
       "<Figure size 300x50 with 1 Axes>"
      ]
     },
     "metadata": {},
     "output_type": "display_data"
    },
    {
     "name": "stdout",
     "output_type": "stream",
     "text": [
      "undirected/out.ucidata-zachary\n",
      "Standardize opinion vec\n",
      "Computing the pair of inner opinions and equilibirum opinions ..\n"
     ]
    },
    {
     "data": {
      "image/png": "[encoded data removed]",
      "text/plain": [
       "<Figure size 300x50 with 1 Axes>"
      ]
     },
     "metadata": {},
     "output_type": "display_data"
    },
    {
     "name": "stdout",
     "output_type": "stream",
     "text": [
      "undirected/out.moreno_beach_beach\n",
      "Standardize opinion vec\n",
      "Computing the pair of inner opinions and equilibirum opinions ..\n"
     ]
    },
    {
     "data": {
      "image/png": "[encoded data removed]",
      "text/plain": [
       "<Figure size 300x50 with 1 Axes>"
      ]
     },
     "metadata": {},
     "output_type": "display_data"
    },
    {
     "name": "stdout",
     "output_type": "stream",
     "text": [
      "undirected/out.moreno_train_train\n",
      "Standardize opinion vec\n",
      "Computing the pair of inner opinions and equilibirum opinions ..\n"
     ]
    },
    {
     "data": {
      "image/png": "[encoded data removed]",
      "text/plain": [
       "<Figure size 300x50 with 1 Axes>"
      ]
     },
     "metadata": {},
     "output_type": "display_data"
    },
    {
     "name": "stdout",
     "output_type": "stream",
     "text": [
      "undirected/out.mit\n",
      "Standardize opinion vec\n",
      "Computing the pair of inner opinions and equilibirum opinions ..\n"
     ]
    },
    {
     "data": {
      "image/png": "[encoded data removed]",
      "text/plain": [
       "<Figure size 300x50 with 1 Axes>"
      ]
     },
     "metadata": {},
     "output_type": "display_data"
    },
    {
     "name": "stdout",
     "output_type": "stream",
     "text": [
      "undirected/out.sociopatterns-hypertext\n",
      "Standardize opinion vec\n",
      "Computing the pair of inner opinions and equilibirum opinions ..\n"
     ]
    },
    {
     "data": {
      "image/png": "[encoded data removed]",
      "text/plain": [
       "<Figure size 300x50 with 1 Axes>"
      ]
     },
     "metadata": {},
     "output_type": "display_data"
    },
    {
     "name": "stdout",
     "output_type": "stream",
     "text": [
      "undirected/out.dimacs10-football\n",
      "Standardize opinion vec\n",
      "Computing the pair of inner opinions and equilibirum opinions ..\n"
     ]
    },
    {
     "data": {
      "image/png": "[encoded data removed]",
      "text/plain": [
       "<Figure size 300x50 with 1 Axes>"
      ]
     },
     "metadata": {},
     "output_type": "display_data"
    },
    {
     "name": "stderr",
     "output_type": "stream",
     "text": [
      "/tmp/ipykernel_2377730/4242582391.py:57: FutureWarning: In future versions `DataFrame.to_latex` is expected to utilise the base implementation of `Styler.to_latex` for formatting and rendering. The arguments signature may therefore change. It is recommended instead to use `DataFrame.style.to_latex` which also contains additional functionality.\n",
      "  latex_code = pd.DataFrame(df).to_latex(index=False, column_format=f\"c|c|c\", escape=False)\n"
     ]
    }
   ],
   "source": [
    "save = True\n",
    "\n",
    "df = {\"name\": [], \"|V|\": [], \"|E|\": []}\n",
    " \n",
    "NETWORKS = [\n",
    "            (\"brexit\", {}), (\"referendum\", {}), (\"vaxNoVax\", {}),\n",
    "            ('directed/out.moreno_highschool_highschool', {}),\n",
    "            ('directed/out.dnc-temporalGraph', {}),\n",
    "            ('directed/out.librec-ciaodvd-trust', {}),\n",
    "            ('directed/out.librec-filmtrust-trust', {}),\n",
    "            ('directed/out.moreno_health_health', {}),\n",
    "            ('directed/out.moreno_innovation_innovation', {}),\n",
    "            ('directed/out.moreno_oz_oz', {}),\n",
    "            ('directed/out.wiki_talk_ht', {}),\n",
    "            ('undirected/out.ucidata-zachary', {}), # 34\n",
    "            ('undirected/out.moreno_beach_beach', {}), # 43\n",
    "            ('undirected/out.moreno_train_train', {}), # 64\n",
    "            ('undirected/out.mit', {}), # 96\n",
    "            ('undirected/out.sociopatterns-hypertext', {}), # 113\n",
    "            ('undirected/out.dimacs10-football', {}), # 115\n",
    "            #('undirected/out.arenas-jazz', {}), # 198\n",
    "            ]\n",
    "\n",
    "\n",
    "for network_name, kwrgs in NETWORKS:\n",
    "    print(network_name)\n",
    "    A_eq, G, _ = define_graph_instance(network_name, kwargs=kwrgs, directed=not \"undirected\" in network_name)\n",
    "    if network_name in (\"brexit\", \"referendum\", \"vaxNoVax\"):\n",
    "        x, _G = load_real_dataset(network_name, verbose=False)\n",
    "    else:\n",
    "        x = generate_opinions(o_name='gaussian', G=G, pol=3., seed=0)\n",
    "\n",
    "    x, _, I = preprocess(x, G) # standardizing opinions\n",
    "    s, _z_eq = define_initial_and_final_opinions(x=x, M_eq = I + np.diag(A_eq.sum(axis=1)) - A_eq) # finding inner opinions according to FJ\n",
    "\n",
    "\n",
    "    df[\"name\"].append(network_name.replace(\"/\", \"-\").replace(\".\", \"-\").replace('_', \"-\"))\n",
    "    df[\"|V|\"].append(G.number_of_nodes())\n",
    "    df[\"|E|\"].append(G.number_of_edges())\n",
    "\n",
    "    \n",
    "\n",
    "\n",
    "    # Distribution\n",
    "    fig, ax = plt.subplots(1, 1, figsize=(3, 0.5))\n",
    "    ax.hist(s, color='black', bins=10, edgecolor='white')\n",
    "    sns.despine(ax=ax, top=True, right=True, left=True, bottom=True)\n",
    "    ax.tick_params(left=False, bottom=False, labelleft=False, labelbottom=False)\n",
    "    ax.set_xticks([])\n",
    "    ax.set_yticks([])\n",
    "    if save:\n",
    "        fig.savefig(f'../draft/figures/histogram-opinions-{network_name.replace(\"/\", \"-\").replace(\".\", \"-\")}.png', bbox_inches='tight', pad_inches=0, transparent=True)\n",
    "    plt.show()\n",
    "\n",
    "if save:\n",
    "    # Generate LaTeX code\n",
    "    latex_code = pd.DataFrame(df).to_latex(index=False, column_format=f\"c|c|c\", escape=False)\n",
    "    filename = f\"datasets\"\n",
    "    with open(f'../draft/tables/{filename}.tex', 'w') as f:\n",
    "        f.write(latex_code)"
   ]
  },
  {
   "cell_type": "markdown",
   "id": "f27f5d0d",
   "metadata": {},
   "source": [
    "\n",
    "---------"
   ]
  },
  {
   "cell_type": "code",
   "execution_count": 3,
   "id": "e6b967d8",
   "metadata": {},
   "outputs": [
    {
     "name": "stdout",
     "output_type": "stream",
     "text": [
      "directed/out.dnc-temporalGraph 1833\n",
      "directed/out.librec-ciaodvd-trust 4562\n",
      "directed/out.librec-filmtrust-trust 610\n",
      "directed/out.moreno_health_health 2539\n",
      "directed/out.moreno_highschool_highschool 70\n",
      "directed/out.moreno_innovation_innovation 117\n",
      "directed/out.moreno_oz_oz 217\n",
      "directed/out.moreno_seventh_seventh 29\n",
      "directed/out.wiki_talk_ht 404\n"
     ]
    }
   ],
   "source": [
    "directed_graphs = ['directed/out.dnc-temporalGraph',\n",
    " 'directed/out.librec-ciaodvd-trust',\n",
    " 'directed/out.librec-filmtrust-trust',\n",
    " 'directed/out.moreno_health_health',\n",
    " 'directed/out.moreno_highschool_highschool',\n",
    " 'directed/out.moreno_innovation_innovation',\n",
    " 'directed/out.moreno_oz_oz',\n",
    " 'directed/out.moreno_seventh_seventh',\n",
    " 'directed/out.wiki_talk_ht'\n",
    " ]\n",
    "\n",
    "for graph_path in directed_graphs:\n",
    "    graph = load_directed_graph(f\"../data/raw/{graph_path}\")\n",
    "    print(graph_path, graph.number_of_nodes())\n",
    "\n"
   ]
  },
  {
   "cell_type": "code",
   "execution_count": 6,
   "id": "71ec8680",
   "metadata": {},
   "outputs": [
    {
     "name": "stdout",
     "output_type": "stream",
     "text": [
      "undirected/out.arenas-jazz 198\n",
      "   casting adj to doubly stochastic 438/100000\r"
     ]
    },
    {
     "name": "stderr",
     "output_type": "stream",
     "text": [
      "/tmp/ipykernel_70482/4054581993.py:14: FutureWarning: adjacency_matrix will return a scipy.sparse array instead of a matrix in Networkx 3.0.\n",
      "  cast_to_doubly_stochastic(nx.adjacency_matrix(graph), T=100_000)\n"
     ]
    },
    {
     "name": "stdout",
     "output_type": "stream",
     "text": [
      "   Finished casting adj to doubly stochastic at iteration 1000/100000\n",
      "undirected/out.dimacs10-football 115\n",
      "   Finished casting adj to doubly stochastic at iteration 6/100000\n",
      "undirected/out.dimacs10-polbooks 105\n",
      "   Finished casting adj to doubly stochastic at iteration 24/100000\n",
      "undirected/out.mit 96\n",
      "   Finished casting adj to doubly stochastic at iteration 23/100000\n",
      "undirected/out.moreno_beach_beach 43\n",
      "   Finished casting adj to doubly stochastic at iteration 13/100000\n",
      "undirected/out.moreno_train_train 64\n",
      "Increase T adj to doubly stochastic 99999/100000\n",
      "undirected/out.sociopatterns-hypertext 113\n",
      "   Finished casting adj to doubly stochastic at iteration 1000/100000\n",
      "undirected/out.ucidata-zachary 34\n",
      "Increase T adj to doubly stochastic 99999/100000\n"
     ]
    }
   ],
   "source": [
    "undirected_graphs = ['undirected/out.arenas-jazz',\n",
    " 'undirected/out.dimacs10-football',\n",
    " 'undirected/out.mit',\n",
    " 'undirected/out.moreno_beach_beach',\n",
    " 'undirected/out.moreno_train_train',\n",
    " 'undirected/out.sociopatterns-hypertext',\n",
    " 'undirected/out.ucidata-zachary',\n",
    " ]\n",
    "\n",
    "for graph_path in undirected_graphs:\n",
    "    graph = load_undirected_graph(f'../data/raw/{graph_path}')\n",
    "    print(graph_path, graph.number_of_nodes())\n",
    "    cast_to_doubly_stochastic(nx.adjacency_matrix(graph), T=100_000)\n"
   ]
  },
  {
   "cell_type": "code",
   "execution_count": null,
   "id": "5b607e51",
   "metadata": {},
   "outputs": [],
   "source": [
    "34, 43, 64, 96, 105, 113, 115, 198"
   ]
  },
  {
   "cell_type": "code",
   "execution_count": 12,
   "id": "b20e7991",
   "metadata": {},
   "outputs": [],
   "source": [
    "import numpy as np\n",
    "#2479\n",
    "SENSORS = np.linspace(25, 2500, 10)\n",
    "SENSORS[-1] = 2479\n"
   ]
  }
 ],
 "metadata": {
  "kernelspec": {
   "display_name": "feedsrankenv",
   "language": "python",
   "name": "python3"
  },
  "language_info": {
   "codemirror_mode": {
    "name": "ipython",
    "version": 3
   },
   "file_extension": ".py",
   "mimetype": "text/x-python",
   "name": "python",
   "nbconvert_exporter": "python",
   "pygments_lexer": "ipython3",
   "version": "3.10.4"
  }
 },
 "nbformat": 4,
 "nbformat_minor": 5
}
