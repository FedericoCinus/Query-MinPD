{
 "cells": [
  {
   "cell_type": "code",
   "execution_count": 6,
   "metadata": {},
   "outputs": [
    {
     "name": "stdout",
     "output_type": "stream",
     "text": [
      "[[False]] [[1.25002777]] [[1.10981188]]\n",
      "[[False]] [[1.66227354]] [[1.65205855]]\n",
      "[[False]] [[0.49480969]] [[0.49074074]]\n",
      "[[False]] [[0.4464]] [[0.42618242]]\n",
      "[[False]] [[0.81635681]] [[0.80235918]]\n"
     ]
    }
   ],
   "source": [
    "import numpy as np\n",
    "\n",
    "A1_dir_pol = np.matrix([[0, 1, 0], [1/100,0,99/100], [1, 0, 0]])\n",
    "A2_dir_pol = np.matrix([[0, 1, 0], [1/3,0,2/3], [0, 1, 0]])\n",
    "A1_undir_pol = np.matrix([[0, .001, 0], [.001,0,1], [1, 0, 0]])\n",
    "A2_undir_pol = np.matrix([[0, 1, 0], [1,0,1], [0, 1, 0]])\n",
    "\n",
    "s_pol = np.matrix([[0], [1], [1]])\n",
    "\n",
    "\n",
    "A1_dir_dis = np.matrix([[0, 1, 0], [2/3,0,1/3], [1, 0, 0]])\n",
    "A2_dir_dis = np.matrix([[0, 1, 0], [1/3,0,2/3], [0, 1, 0]])\n",
    "A1_undir_dis = np.matrix([[0, 1, 0], [1,0,1], [1, 0, 0]])\n",
    "A2_undir_dis = np.matrix([[0, 1, 0], [1,0,1], [0, 1, 0]])\n",
    "\n",
    "s_dis = np.matrix([[1], [0], [-1]])\n",
    "\n",
    "λ = .5\n",
    "\n",
    "f1 = lambda X, s: s.T @ np.linalg.matrix_power(np.linalg.inv(np.identity(X.shape[0]) + np.diag(np.asarray(X).sum(axis=1).flatten()) - X), 2) @ s # polarization undirected\n",
    "f2 = lambda X, s: s.T @ np.linalg.inv(2*np.identity(X.shape[0]) - X).T @ np.linalg.inv(2*np.identity(X.shape[0]) - X) @ s # polarization directed\n",
    "f3 = lambda X, s: s.T @ np.linalg.inv(np.identity(X.shape[0]) + np.diag(np.asarray(X).sum(axis=1).flatten()) - X) @(np.diag(np.asarray(X).sum(axis=1).flatten()) - X)@ np.linalg.inv(np.identity(X.shape[0]) + np.diag(np.asarray(X).sum(axis=1).flatten()) - X) @ s # disagreement undirected\n",
    "f4 = lambda X, s: 0.5 * s.T @ np.linalg.inv(2*np.identity(X.shape[0]) - X).T @ (np.identity(X.shape[0]) + np.diag(np.asarray(X).sum(axis=0).flatten()) - 2*X) @ np.linalg.inv(2*np.identity(X.shape[0]) - X) @ s # disagreement directed\n",
    "f5 = lambda X, s: f2(X, s) + f4(X, s) # polarization + disagreement directed\n",
    "\n",
    "\n",
    "def check_convexity(f, A1, A2, s):\n",
    "    lhs = f(λ * A1 + (1-λ) * A2, s)\n",
    "    rhs = λ * f(A1, s) + (1-λ) * f(A2, s)\n",
    "    print(lhs <= rhs, lhs, rhs)\n",
    "\n",
    "check_convexity(f1, A1_undir_pol, A2_undir_pol, s_pol)\n",
    "check_convexity(f2, A1_dir_pol, A2_dir_pol, s_pol)\n",
    "check_convexity(f3, A1_undir_dis, A2_undir_dis, s_dis)\n",
    "check_convexity(f4, A1_dir_dis, A2_dir_dis, s_dis)\n",
    "check_convexity(f5, A1_dir_pol, A2_dir_pol, s_dis)"
   ]
  },
  {
   "cell_type": "code",
   "execution_count": null,
   "metadata": {},
   "outputs": [],
   "source": []
  }
 ],
 "metadata": {
  "kernelspec": {
   "display_name": "feedsrankenv",
   "language": "python",
   "name": "python3"
  },
  "language_info": {
   "codemirror_mode": {
    "name": "ipython",
    "version": 3
   },
   "file_extension": ".py",
   "mimetype": "text/x-python",
   "name": "python",
   "nbconvert_exporter": "python",
   "pygments_lexer": "ipython3",
   "version": "3.10.4"
  }
 },
 "nbformat": 4,
 "nbformat_minor": 2
}
